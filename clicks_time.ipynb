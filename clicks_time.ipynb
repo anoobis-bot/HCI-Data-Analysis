{
 "cells": [
  {
   "cell_type": "code",
   "execution_count": 32,
   "metadata": {},
   "outputs": [],
   "source": [
    "import pandas as pd\n",
    "import matplotlib.pyplot as plt\n",
    "\n",
    "import pymc as pm"
   ]
  },
  {
   "cell_type": "code",
   "execution_count": 33,
   "metadata": {},
   "outputs": [
    {
     "data": {
      "text/plain": "                  clicks_slope   mean     sd  hdi_3%  hdi_97%  mcse_mean  \\\n0                    Intercept  3.809  3.721  -3.240   10.626      0.111   \n1        slopetab_nopic_clicks  0.861  3.781  -6.128    8.045      0.112   \n2       slopelist_nopic_clicks -0.090  3.771  -7.156    6.945      0.111   \n3  slopeparagraph_nopic_clicks -0.385  3.782  -7.905    6.313      0.112   \n4          slopetab_pic_clicks  1.492  3.755  -5.554    8.510      0.112   \n5         slopelist_pic_clicks  0.480  3.766  -6.622    7.631      0.112   \n6    slopeparagraph_pic_clicks  0.468  3.781  -6.506    7.568      0.113   \n7                        sigma  2.779  0.213   2.385    3.171      0.004   \n\n   mcse_sd  ess_bulk  ess_tail  r_hat  \n0    0.079    1121.0    1661.0    1.0  \n1    0.079    1145.0    1652.0    1.0  \n2    0.079    1145.0    1730.0    1.0  \n3    0.080    1133.0    1741.0    1.0  \n4    0.079    1128.0    1730.0    1.0  \n5    0.079    1142.0    1685.0    1.0  \n6    0.080    1117.0    1593.0    1.0  \n7    0.003    3148.0    2863.0    1.0  ",
      "text/html": "<div>\n<style scoped>\n    .dataframe tbody tr th:only-of-type {\n        vertical-align: middle;\n    }\n\n    .dataframe tbody tr th {\n        vertical-align: top;\n    }\n\n    .dataframe thead th {\n        text-align: right;\n    }\n</style>\n<table border=\"1\" class=\"dataframe\">\n  <thead>\n    <tr style=\"text-align: right;\">\n      <th></th>\n      <th>clicks_slope</th>\n      <th>mean</th>\n      <th>sd</th>\n      <th>hdi_3%</th>\n      <th>hdi_97%</th>\n      <th>mcse_mean</th>\n      <th>mcse_sd</th>\n      <th>ess_bulk</th>\n      <th>ess_tail</th>\n      <th>r_hat</th>\n    </tr>\n  </thead>\n  <tbody>\n    <tr>\n      <th>0</th>\n      <td>Intercept</td>\n      <td>3.809</td>\n      <td>3.721</td>\n      <td>-3.240</td>\n      <td>10.626</td>\n      <td>0.111</td>\n      <td>0.079</td>\n      <td>1121.0</td>\n      <td>1661.0</td>\n      <td>1.0</td>\n    </tr>\n    <tr>\n      <th>1</th>\n      <td>slopetab_nopic_clicks</td>\n      <td>0.861</td>\n      <td>3.781</td>\n      <td>-6.128</td>\n      <td>8.045</td>\n      <td>0.112</td>\n      <td>0.079</td>\n      <td>1145.0</td>\n      <td>1652.0</td>\n      <td>1.0</td>\n    </tr>\n    <tr>\n      <th>2</th>\n      <td>slopelist_nopic_clicks</td>\n      <td>-0.090</td>\n      <td>3.771</td>\n      <td>-7.156</td>\n      <td>6.945</td>\n      <td>0.111</td>\n      <td>0.079</td>\n      <td>1145.0</td>\n      <td>1730.0</td>\n      <td>1.0</td>\n    </tr>\n    <tr>\n      <th>3</th>\n      <td>slopeparagraph_nopic_clicks</td>\n      <td>-0.385</td>\n      <td>3.782</td>\n      <td>-7.905</td>\n      <td>6.313</td>\n      <td>0.112</td>\n      <td>0.080</td>\n      <td>1133.0</td>\n      <td>1741.0</td>\n      <td>1.0</td>\n    </tr>\n    <tr>\n      <th>4</th>\n      <td>slopetab_pic_clicks</td>\n      <td>1.492</td>\n      <td>3.755</td>\n      <td>-5.554</td>\n      <td>8.510</td>\n      <td>0.112</td>\n      <td>0.079</td>\n      <td>1128.0</td>\n      <td>1730.0</td>\n      <td>1.0</td>\n    </tr>\n    <tr>\n      <th>5</th>\n      <td>slopelist_pic_clicks</td>\n      <td>0.480</td>\n      <td>3.766</td>\n      <td>-6.622</td>\n      <td>7.631</td>\n      <td>0.112</td>\n      <td>0.079</td>\n      <td>1142.0</td>\n      <td>1685.0</td>\n      <td>1.0</td>\n    </tr>\n    <tr>\n      <th>6</th>\n      <td>slopeparagraph_pic_clicks</td>\n      <td>0.468</td>\n      <td>3.781</td>\n      <td>-6.506</td>\n      <td>7.568</td>\n      <td>0.113</td>\n      <td>0.080</td>\n      <td>1117.0</td>\n      <td>1593.0</td>\n      <td>1.0</td>\n    </tr>\n    <tr>\n      <th>7</th>\n      <td>sigma</td>\n      <td>2.779</td>\n      <td>0.213</td>\n      <td>2.385</td>\n      <td>3.171</td>\n      <td>0.004</td>\n      <td>0.003</td>\n      <td>3148.0</td>\n      <td>2863.0</td>\n      <td>1.0</td>\n    </tr>\n  </tbody>\n</table>\n</div>"
     },
     "execution_count": 33,
     "metadata": {},
     "output_type": "execute_result"
    }
   ],
   "source": [
    "click_df = pd.read_csv(\"clicks_findings.csv\")\n",
    "click_df = click_df.rename(columns={\"Unnamed: 0\": \"clicks_slope\"})\n",
    "click_df"
   ]
  },
  {
   "cell_type": "code",
   "execution_count": 34,
   "outputs": [
    {
     "data": {
      "text/plain": "                  clicks_slope   mean\n1        slopetab_nopic_clicks  0.861\n2       slopelist_nopic_clicks -0.090\n3  slopeparagraph_nopic_clicks -0.385\n4          slopetab_pic_clicks  1.492\n5         slopelist_pic_clicks  0.480\n6    slopeparagraph_pic_clicks  0.468",
      "text/html": "<div>\n<style scoped>\n    .dataframe tbody tr th:only-of-type {\n        vertical-align: middle;\n    }\n\n    .dataframe tbody tr th {\n        vertical-align: top;\n    }\n\n    .dataframe thead th {\n        text-align: right;\n    }\n</style>\n<table border=\"1\" class=\"dataframe\">\n  <thead>\n    <tr style=\"text-align: right;\">\n      <th></th>\n      <th>clicks_slope</th>\n      <th>mean</th>\n    </tr>\n  </thead>\n  <tbody>\n    <tr>\n      <th>1</th>\n      <td>slopetab_nopic_clicks</td>\n      <td>0.861</td>\n    </tr>\n    <tr>\n      <th>2</th>\n      <td>slopelist_nopic_clicks</td>\n      <td>-0.090</td>\n    </tr>\n    <tr>\n      <th>3</th>\n      <td>slopeparagraph_nopic_clicks</td>\n      <td>-0.385</td>\n    </tr>\n    <tr>\n      <th>4</th>\n      <td>slopetab_pic_clicks</td>\n      <td>1.492</td>\n    </tr>\n    <tr>\n      <th>5</th>\n      <td>slopelist_pic_clicks</td>\n      <td>0.480</td>\n    </tr>\n    <tr>\n      <th>6</th>\n      <td>slopeparagraph_pic_clicks</td>\n      <td>0.468</td>\n    </tr>\n  </tbody>\n</table>\n</div>"
     },
     "execution_count": 34,
     "metadata": {},
     "output_type": "execute_result"
    }
   ],
   "source": [
    "# Create the features and response\n",
    "XClicks = click_df.loc[1:6, [\"clicks_slope\", \"mean\"]]\n",
    "XClicks"
   ],
   "metadata": {
    "collapsed": false
   }
  },
  {
   "cell_type": "code",
   "execution_count": 35,
   "outputs": [
    {
     "data": {
      "text/plain": "                   times_slope     mean      sd   hdi_3%  hdi_97%  mcse_mean  \\\n0                    Intercept   48.775   9.941   31.801   68.599      0.103   \n1        slopetab_nopic_clicks   10.775  10.241   -7.968   30.657      0.107   \n2       slopelist_nopic_clicks    9.333  10.173   -9.990   27.272      0.099   \n3  slopeparagraph_nopic_clicks    3.179   9.946  -14.797   23.399      0.104   \n4          slopetab_pic_clicks   13.168  10.035   -6.430   31.168      0.106   \n5         slopelist_pic_clicks    6.961   9.885  -10.925   25.939      0.098   \n6    slopeparagraph_pic_clicks    4.928  10.083  -14.170   24.188      0.101   \n7                        sigma  949.776   5.038  940.189  959.186      0.052   \n\n   mcse_sd  ess_bulk  ess_tail  r_hat  \n0    0.075    9366.0    3012.0    1.0  \n1    0.128    9096.0    2372.0    1.0  \n2    0.132   10468.0    2580.0    1.0  \n3    0.174    9117.0    2678.0    1.0  \n4    0.117    9062.0    2342.0    1.0  \n5    0.133   10186.0    2882.0    1.0  \n6    0.167   10045.0    2853.0    1.0  \n7    0.037    9453.0    2921.0    1.0  ",
      "text/html": "<div>\n<style scoped>\n    .dataframe tbody tr th:only-of-type {\n        vertical-align: middle;\n    }\n\n    .dataframe tbody tr th {\n        vertical-align: top;\n    }\n\n    .dataframe thead th {\n        text-align: right;\n    }\n</style>\n<table border=\"1\" class=\"dataframe\">\n  <thead>\n    <tr style=\"text-align: right;\">\n      <th></th>\n      <th>times_slope</th>\n      <th>mean</th>\n      <th>sd</th>\n      <th>hdi_3%</th>\n      <th>hdi_97%</th>\n      <th>mcse_mean</th>\n      <th>mcse_sd</th>\n      <th>ess_bulk</th>\n      <th>ess_tail</th>\n      <th>r_hat</th>\n    </tr>\n  </thead>\n  <tbody>\n    <tr>\n      <th>0</th>\n      <td>Intercept</td>\n      <td>48.775</td>\n      <td>9.941</td>\n      <td>31.801</td>\n      <td>68.599</td>\n      <td>0.103</td>\n      <td>0.075</td>\n      <td>9366.0</td>\n      <td>3012.0</td>\n      <td>1.0</td>\n    </tr>\n    <tr>\n      <th>1</th>\n      <td>slopetab_nopic_clicks</td>\n      <td>10.775</td>\n      <td>10.241</td>\n      <td>-7.968</td>\n      <td>30.657</td>\n      <td>0.107</td>\n      <td>0.128</td>\n      <td>9096.0</td>\n      <td>2372.0</td>\n      <td>1.0</td>\n    </tr>\n    <tr>\n      <th>2</th>\n      <td>slopelist_nopic_clicks</td>\n      <td>9.333</td>\n      <td>10.173</td>\n      <td>-9.990</td>\n      <td>27.272</td>\n      <td>0.099</td>\n      <td>0.132</td>\n      <td>10468.0</td>\n      <td>2580.0</td>\n      <td>1.0</td>\n    </tr>\n    <tr>\n      <th>3</th>\n      <td>slopeparagraph_nopic_clicks</td>\n      <td>3.179</td>\n      <td>9.946</td>\n      <td>-14.797</td>\n      <td>23.399</td>\n      <td>0.104</td>\n      <td>0.174</td>\n      <td>9117.0</td>\n      <td>2678.0</td>\n      <td>1.0</td>\n    </tr>\n    <tr>\n      <th>4</th>\n      <td>slopetab_pic_clicks</td>\n      <td>13.168</td>\n      <td>10.035</td>\n      <td>-6.430</td>\n      <td>31.168</td>\n      <td>0.106</td>\n      <td>0.117</td>\n      <td>9062.0</td>\n      <td>2342.0</td>\n      <td>1.0</td>\n    </tr>\n    <tr>\n      <th>5</th>\n      <td>slopelist_pic_clicks</td>\n      <td>6.961</td>\n      <td>9.885</td>\n      <td>-10.925</td>\n      <td>25.939</td>\n      <td>0.098</td>\n      <td>0.133</td>\n      <td>10186.0</td>\n      <td>2882.0</td>\n      <td>1.0</td>\n    </tr>\n    <tr>\n      <th>6</th>\n      <td>slopeparagraph_pic_clicks</td>\n      <td>4.928</td>\n      <td>10.083</td>\n      <td>-14.170</td>\n      <td>24.188</td>\n      <td>0.101</td>\n      <td>0.167</td>\n      <td>10045.0</td>\n      <td>2853.0</td>\n      <td>1.0</td>\n    </tr>\n    <tr>\n      <th>7</th>\n      <td>sigma</td>\n      <td>949.776</td>\n      <td>5.038</td>\n      <td>940.189</td>\n      <td>959.186</td>\n      <td>0.052</td>\n      <td>0.037</td>\n      <td>9453.0</td>\n      <td>2921.0</td>\n      <td>1.0</td>\n    </tr>\n  </tbody>\n</table>\n</div>"
     },
     "execution_count": 35,
     "metadata": {},
     "output_type": "execute_result"
    }
   ],
   "source": [
    "time_df = pd.read_csv(\"time_findings.csv\")\n",
    "time_df = time_df.rename(columns={\"Unnamed: 0\": \"times_slope\"})\n",
    "time_df"
   ],
   "metadata": {
    "collapsed": false
   }
  },
  {
   "cell_type": "code",
   "execution_count": 38,
   "outputs": [
    {
     "data": {
      "text/plain": "                   times_slope    mean\n1        slopetab_nopic_clicks  10.775\n2       slopelist_nopic_clicks   9.333\n3  slopeparagraph_nopic_clicks   3.179\n4          slopetab_pic_clicks  13.168\n5         slopelist_pic_clicks   6.961\n6    slopeparagraph_pic_clicks   4.928",
      "text/html": "<div>\n<style scoped>\n    .dataframe tbody tr th:only-of-type {\n        vertical-align: middle;\n    }\n\n    .dataframe tbody tr th {\n        vertical-align: top;\n    }\n\n    .dataframe thead th {\n        text-align: right;\n    }\n</style>\n<table border=\"1\" class=\"dataframe\">\n  <thead>\n    <tr style=\"text-align: right;\">\n      <th></th>\n      <th>times_slope</th>\n      <th>mean</th>\n    </tr>\n  </thead>\n  <tbody>\n    <tr>\n      <th>1</th>\n      <td>slopetab_nopic_clicks</td>\n      <td>10.775</td>\n    </tr>\n    <tr>\n      <th>2</th>\n      <td>slopelist_nopic_clicks</td>\n      <td>9.333</td>\n    </tr>\n    <tr>\n      <th>3</th>\n      <td>slopeparagraph_nopic_clicks</td>\n      <td>3.179</td>\n    </tr>\n    <tr>\n      <th>4</th>\n      <td>slopetab_pic_clicks</td>\n      <td>13.168</td>\n    </tr>\n    <tr>\n      <th>5</th>\n      <td>slopelist_pic_clicks</td>\n      <td>6.961</td>\n    </tr>\n    <tr>\n      <th>6</th>\n      <td>slopeparagraph_pic_clicks</td>\n      <td>4.928</td>\n    </tr>\n  </tbody>\n</table>\n</div>"
     },
     "execution_count": 38,
     "metadata": {},
     "output_type": "execute_result"
    }
   ],
   "source": [
    "# Create the features and response\n",
    "XTime = time_df.loc[1:6, [\"times_slope\", \"mean\"]]\n",
    "XTime"
   ],
   "metadata": {
    "collapsed": false
   }
  },
  {
   "cell_type": "code",
   "execution_count": 57,
   "outputs": [
    {
     "data": {
      "text/plain": "                                 mean\nCategory                             \nslopetab_pic_clicks          0.113305\nslopeparagraph_pic_clicks    0.094968\nslopetab_nopic_clicks        0.079907\nslopelist_pic_clicks         0.068956\nslopelist_nopic_clicks      -0.009643\nslopeparagraph_nopic_clicks -0.121107",
      "text/html": "<div>\n<style scoped>\n    .dataframe tbody tr th:only-of-type {\n        vertical-align: middle;\n    }\n\n    .dataframe tbody tr th {\n        vertical-align: top;\n    }\n\n    .dataframe thead th {\n        text-align: right;\n    }\n</style>\n<table border=\"1\" class=\"dataframe\">\n  <thead>\n    <tr style=\"text-align: right;\">\n      <th></th>\n      <th>mean</th>\n    </tr>\n    <tr>\n      <th>Category</th>\n      <th></th>\n    </tr>\n  </thead>\n  <tbody>\n    <tr>\n      <th>slopetab_pic_clicks</th>\n      <td>0.113305</td>\n    </tr>\n    <tr>\n      <th>slopeparagraph_pic_clicks</th>\n      <td>0.094968</td>\n    </tr>\n    <tr>\n      <th>slopetab_nopic_clicks</th>\n      <td>0.079907</td>\n    </tr>\n    <tr>\n      <th>slopelist_pic_clicks</th>\n      <td>0.068956</td>\n    </tr>\n    <tr>\n      <th>slopelist_nopic_clicks</th>\n      <td>-0.009643</td>\n    </tr>\n    <tr>\n      <th>slopeparagraph_nopic_clicks</th>\n      <td>-0.121107</td>\n    </tr>\n  </tbody>\n</table>\n</div>"
     },
     "execution_count": 57,
     "metadata": {},
     "output_type": "execute_result"
    }
   ],
   "source": [
    "Results = pd.DataFrame()\n",
    "Results[\"mean\"] = XClicks[\"mean\"] / XTime[\"mean\"]\n",
    "Results[\"Category\"] = time_df.loc[1:6, \"times_slope\"].to_list()\n",
    "Results.set_index(\"Category\", inplace=True)\n",
    "Results.sort_values(by=\"mean\", inplace=True, ascending=False)\n",
    "Results"
   ],
   "metadata": {
    "collapsed": false
   }
  },
  {
   "cell_type": "code",
   "execution_count": null,
   "outputs": [],
   "source": [
    "# slope tab pic clicks has 0.1133 clicks per unit of time"
   ],
   "metadata": {
    "collapsed": false
   }
  }
 ],
 "metadata": {
  "language_info": {
   "name": "python"
  }
 },
 "nbformat": 4,
 "nbformat_minor": 2
}
