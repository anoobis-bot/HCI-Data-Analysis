{
 "cells": [
  {
   "cell_type": "code",
   "execution_count": null,
   "metadata": {},
   "outputs": [],
   "source": [
    "# Create the features and response\n",
    "X = click_df.loc[:, ['tab_nopic_clicks', 'list_nopic_clicks','paragraph_nopic_clicks','tab_pic_clicks','list_pic_clicks','paragraph_pic_clicks']]\n",
    "y = click_df.loc[:, 'sumClicks']"
   ]
  },
  {
   "cell_type": "code",
   "execution_count": null,
   "metadata": {},
   "outputs": [],
   "source": [
    "import pandas as pd\n",
    "import matplotlib.pyplot as plt\n",
    "\n",
    "import pymc as pm"
   ]
  },
  {
   "cell_type": "code",
   "execution_count": null,
   "metadata": {},
   "outputs": [],
   "source": [
    "click_df = pd.read_csv(\"Data_ver2.csv\")\n",
    "\n",
    "click_df.head(100)"
   ]
  }
 ],
 "metadata": {
  "language_info": {
   "name": "python"
  }
 },
 "nbformat": 4,
 "nbformat_minor": 2
}
